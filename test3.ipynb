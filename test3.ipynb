{
 "cells": [
  {
   "cell_type": "markdown",
   "id": "6a9a20b9-0704-4172-bcb3-4829621636d7",
   "metadata": {},
   "source": [
    "## Q1"
   ]
  },
  {
   "cell_type": "markdown",
   "id": "9060cec8-3179-41e8-b357-252823682c00",
   "metadata": {},
   "source": [
    "Functions are created with the help of def function."
   ]
  },
  {
   "cell_type": "code",
   "execution_count": 5,
   "id": "ef83bd46-225f-4aba-925e-7abefd84322e",
   "metadata": {},
   "outputs": [],
   "source": [
    "def print_odd(l1):\n",
    "    odd_list = []\n",
    "    for i in l1:\n",
    "        if i%2 != 0:\n",
    "            odd_list.append(i)\n",
    "    return odd_list        "
   ]
  },
  {
   "cell_type": "code",
   "execution_count": 6,
   "id": "9ebed143-018a-47a7-a7fd-54ff012d2e02",
   "metadata": {},
   "outputs": [
    {
     "name": "stdout",
     "output_type": "stream",
     "text": [
      "[1, 3, 5, 7, 9, 11, 13, 15, 17, 19, 21, 23, 25]\n"
     ]
    }
   ],
   "source": [
    "ans = print_odd(list(range(26)))\n",
    "print(ans)"
   ]
  },
  {
   "cell_type": "markdown",
   "id": "b3f659f3-f953-4deb-871c-bcad5f0ca6b8",
   "metadata": {},
   "source": [
    "## Q2"
   ]
  },
  {
   "cell_type": "markdown",
   "id": "3419c3bf-26e9-4cfc-a0d6-368acf05cd8e",
   "metadata": {},
   "source": [
    "1. Args : With this keyword, we can pass any variable length argument list to a function.\n",
    "2. kwargs : This keyword is used when we pass the keyword arguments as the parameters for the function."
   ]
  },
  {
   "cell_type": "code",
   "execution_count": 7,
   "id": "e1f0b742-75ac-4ba5-82c2-1409fab6145d",
   "metadata": {},
   "outputs": [],
   "source": [
    "def test1(*args):\n",
    "    total = 0\n",
    "    for i in args:\n",
    "        total+=i\n",
    "    return total    "
   ]
  },
  {
   "cell_type": "code",
   "execution_count": 8,
   "id": "268d5cd9-7166-44a5-b00e-5ca72c3254f7",
   "metadata": {},
   "outputs": [
    {
     "name": "stdout",
     "output_type": "stream",
     "text": [
      "329\n"
     ]
    }
   ],
   "source": [
    "ans = test1(12,1,3,56,89,90,78)\n",
    "print(ans)"
   ]
  },
  {
   "cell_type": "code",
   "execution_count": 10,
   "id": "e746b584-925f-4e64-8d41-257eba43b6ee",
   "metadata": {},
   "outputs": [],
   "source": [
    "def test2(**kwargs):\n",
    "    print(kwargs)"
   ]
  },
  {
   "cell_type": "code",
   "execution_count": 12,
   "id": "b83c7097-cf61-4c14-97f3-b4e6f790e1a0",
   "metadata": {},
   "outputs": [
    {
     "name": "stdout",
     "output_type": "stream",
     "text": [
      "{'a': 12, 'b': 100, 'c': 'Vinay', 'd': [12, 13, 14, 15], 'e': (1, 2, 3, 4)}\n"
     ]
    }
   ],
   "source": [
    "test2(a = 12,b = 100,c = \"Vinay\",d = [12,13,14,15],e = (1,2,3,4))"
   ]
  },
  {
   "cell_type": "markdown",
   "id": "cbf28e56-296a-49cc-873a-69f74d0ad323",
   "metadata": {},
   "source": [
    "## Q3"
   ]
  },
  {
   "cell_type": "markdown",
   "id": "29502737-90fa-42aa-8a11-e7f37375d1d5",
   "metadata": {},
   "source": [
    "Iterator- An iterator is an object that allows you to iterate over collections of data such as list,tuples ,dictionaries ,sets.\n",
    "\n",
    "1. iter() method is used to initialize the iterator object .\n",
    "2. next() method is used for iteration."
   ]
  },
  {
   "cell_type": "code",
   "execution_count": 3,
   "id": "7c5f8436-777c-438e-9169-daf56c935ac4",
   "metadata": {},
   "outputs": [
    {
     "name": "stdout",
     "output_type": "stream",
     "text": [
      "2\n",
      "4\n",
      "6\n",
      "8\n",
      "10\n"
     ]
    }
   ],
   "source": [
    "my_list = [2, 4, 6, 8, 10, 12, 14, 16,18, 20]\n",
    "iterator = iter(my_list)\n",
    "print(next(iterator))\n",
    "print(next(iterator))\n",
    "print(next(iterator))\n",
    "print(next(iterator))\n",
    "print(next(iterator))"
   ]
  },
  {
   "cell_type": "markdown",
   "id": "9ad9b0c7-c258-4421-923a-a6f0d1cb3337",
   "metadata": {},
   "source": [
    "## Q4"
   ]
  },
  {
   "cell_type": "markdown",
   "id": "0af7a244-93e5-4377-8e99-d8fed5068b86",
   "metadata": {},
   "source": [
    "Generator - A Generator is a function that returns an iterator using the Yield keyword.\n",
    "\n",
    "We use yield keyword especially to save memory storage."
   ]
  },
  {
   "cell_type": "code",
   "execution_count": 8,
   "id": "2834c519-adb6-4305-bfd3-e587929961ef",
   "metadata": {},
   "outputs": [],
   "source": [
    "def fib(n):\n",
    "    a,b = 0,1\n",
    "    for i in range(n):\n",
    "        yield a\n",
    "        a,b = b,a+b"
   ]
  },
  {
   "cell_type": "code",
   "execution_count": 9,
   "id": "a5dc5033-6313-40a4-9853-8faf305db3b8",
   "metadata": {},
   "outputs": [
    {
     "data": {
      "text/plain": [
       "<generator object fib at 0x7fd8455fdfc0>"
      ]
     },
     "execution_count": 9,
     "metadata": {},
     "output_type": "execute_result"
    }
   ],
   "source": [
    "fib(10)"
   ]
  },
  {
   "cell_type": "code",
   "execution_count": 10,
   "id": "8a8bfb59-6647-487c-a352-3a1a40bcb2db",
   "metadata": {},
   "outputs": [
    {
     "name": "stdout",
     "output_type": "stream",
     "text": [
      "0\n",
      "1\n",
      "1\n",
      "2\n",
      "3\n",
      "5\n",
      "8\n",
      "13\n",
      "21\n",
      "34\n",
      "55\n",
      "89\n",
      "144\n",
      "233\n",
      "377\n"
     ]
    }
   ],
   "source": [
    "for i in fib(15):\n",
    "    print(i)"
   ]
  },
  {
   "cell_type": "markdown",
   "id": "37276b88-2908-4e93-afc0-2a1f061834a9",
   "metadata": {},
   "source": [
    "## Q5"
   ]
  },
  {
   "cell_type": "code",
   "execution_count": 11,
   "id": "0c5f3c99-0c44-4a0c-8c67-7a35164cf8d4",
   "metadata": {},
   "outputs": [],
   "source": [
    "def prime_num(l1):\n",
    "    flag = True\n",
    "    for i in l1:\n",
    "        if i in [1,2]:\n",
    "            yield i\n",
    "        else:\n",
    "            for j in range(2,i):\n",
    "                if i % j == 0:\n",
    "                    flag = True\n",
    "                    break\n",
    "                else:\n",
    "                    flag = False\n",
    "                    \n",
    "            if flag == False:\n",
    "                yield i\n",
    "                \n",
    "                    "
   ]
  },
  {
   "cell_type": "code",
   "execution_count": 16,
   "id": "9fb9481b-3a96-4972-a4e6-0b34e33b06f9",
   "metadata": {},
   "outputs": [
    {
     "name": "stdout",
     "output_type": "stream",
     "text": [
      "1\n",
      "2\n",
      "3\n",
      "5\n",
      "7\n",
      "11\n",
      "13\n",
      "17\n",
      "19\n",
      "23\n",
      "29\n",
      "31\n",
      "37\n",
      "41\n",
      "43\n",
      "47\n",
      "53\n",
      "59\n",
      "61\n",
      "67\n"
     ]
    }
   ],
   "source": [
    "iterator = prime_num(range(1000))\n",
    "for i in range(20):\n",
    "    print(next(iterator))"
   ]
  },
  {
   "cell_type": "code",
   "execution_count": null,
   "id": "18da9a0d-f8ea-4fac-b752-208bca87a907",
   "metadata": {},
   "outputs": [],
   "source": []
  }
 ],
 "metadata": {
  "kernelspec": {
   "display_name": "Python 3 (ipykernel)",
   "language": "python",
   "name": "python3"
  },
  "language_info": {
   "codemirror_mode": {
    "name": "ipython",
    "version": 3
   },
   "file_extension": ".py",
   "mimetype": "text/x-python",
   "name": "python",
   "nbconvert_exporter": "python",
   "pygments_lexer": "ipython3",
   "version": "3.10.8"
  }
 },
 "nbformat": 4,
 "nbformat_minor": 5
}
